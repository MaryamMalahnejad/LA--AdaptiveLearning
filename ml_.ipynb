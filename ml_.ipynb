{
  "nbformat": 4,
  "nbformat_minor": 0,
  "metadata": {
    "colab": {
      "provenance": [],
      "authorship_tag": "ABX9TyN6muAFlL4nKQOFM5eLyJSU",
      "include_colab_link": true
    },
    "kernelspec": {
      "name": "python3",
      "display_name": "Python 3"
    },
    "language_info": {
      "name": "python"
    }
  },
  "cells": [
    {
      "cell_type": "markdown",
      "metadata": {
        "id": "view-in-github",
        "colab_type": "text"
      },
      "source": [
        "<a href=\"https://colab.research.google.com/github/MaryamMalahnejad/LA--AdaptiveLearning/blob/mta%2Fbackend/ml_.ipynb\" target=\"_parent\"><img src=\"https://colab.research.google.com/assets/colab-badge.svg\" alt=\"Open In Colab\"/></a>"
      ]
    },
    {
      "cell_type": "code",
      "execution_count": null,
      "metadata": {
        "colab": {
          "base_uri": "https://localhost:8080/"
        },
        "id": "Qk8nzRKSviDP",
        "outputId": "f5e0a982-0425-4bd2-b562-bdda68c30d8b"
      },
      "outputs": [
        {
          "output_type": "stream",
          "name": "stdout",
          "text": [
            "Model Accuracy: 46.67%\n"
          ]
        }
      ],
      "source": [
        "# Import necessary libraries\n",
        "import pandas as pd\n",
        "from sklearn.model_selection import train_test_split\n",
        "from sklearn.ensemble import RandomForestClassifier\n",
        "from sklearn.metrics import accuracy_score\n",
        "\n",
        "# Load your dataset\n",
        "df = pd.read_csv('null1.csv')  # Replace 'your_dataset.csv' with the actual file path\n",
        "\n",
        "# Assuming your data is stored in a variable named 'df'\n",
        "# Replace 'style' with the target variable you want to predict\n",
        "X = df.drop('style', axis=1)\n",
        "y = df['style']\n",
        "\n",
        "# Split the data into training and testing sets\n",
        "X_train, X_test, y_train, y_test = train_test_split(X, y, test_size=0.2, random_state=42)\n",
        "\n",
        "# Initialize the Random Forest Classifier (you can choose a different algorithm based on your needs)\n",
        "model = RandomForestClassifier(n_estimators=100, random_state=42)\n",
        "\n",
        "# Train the model on the training set\n",
        "model.fit(X_train, y_train)\n",
        "\n",
        "# Make predictions on the test set\n",
        "y_pred = model.predict(X_test)\n",
        "\n",
        "# Evaluate the model's performance\n",
        "accuracy = accuracy_score(y_test, y_pred)\n",
        "print(f'Model Accuracy: {accuracy * 100:.2f}%')\n"
      ]
    },
    {
      "cell_type": "code",
      "source": [
        "import pandas as pd\n",
        "\n",
        "# Assumed data for a new user\n",
        "new_user_data = {\n",
        "    'id': 999,\n",
        "    'effectiveness': 4,\n",
        "    'trust': 3,\n",
        "    'openness': 2,\n",
        "    'typee': 5,\n",
        "    'loudness': 3,\n",
        "    'sessions': 2,\n",
        "    'dig_tra': 1,\n",
        "    'on_in': 3,\n",
        "    'Personalized': 4,\n",
        "    'Feedback': 2,\n",
        "    'Tracking': 5,\n",
        "    'Interactive': 4,\n",
        "    'Mobile': 3,\n",
        "    'Collaborative': 5,\n",
        "    'Virtual': 2,\n",
        "    'Diagrams_and_Charts': 1,\n",
        "    'Interactive_Videos': 4,\n",
        "    'Mind_Maps': 5,\n",
        "    'Podcasts': 3,\n",
        "    'Audiobooks': 2,\n",
        "    'Recorded_Lectures': 4,\n",
        "    'Verbal_Explanations': 5,\n",
        "    'Quizzes': 3,\n",
        "    'Interactive_Apps': 5,\n",
        "    'Virtual_Labs': 4,\n",
        "    'Ebooks': 2,\n",
        "    'Study_Guides': 3,\n",
        "    'Written_Explanations': 4,\n",
        "    'Online_Articles': 5,\n",
        "    'Practical_Exercises': 3,\n",
        "    'Group_Discussions': 4,\n",
        "    'Shared_Notes': 1,\n",
        "    'Visual_Materials': 4,\n",
        "    'Interactive_Materials': 5,\n",
        "    'written_Based_materials': 3,\n",
        "    'Hands_Materials': 2,\n",
        "    'Collaborative_Materials': 4,\n",
        "    'Auditory_Materials': 5,\n",
        "    'age': 25,\n",
        "    'gender': 1,  # Assuming 1 for Male, 2 for Female\n",
        "    'study_field': 3,  # Assuming a specific field code\n",
        "    'education_level': 2,  # Assuming 1 for High School, 2 for College, etc.\n",
        "    'employment': 1,  # Assuming 0 for Unemployed, 1 for Employed\n",
        "    'study_place': 2,  # Assuming 1 for Home, 2 for Library, etc.\n",
        "}\n",
        "\n",
        "# Convert the dictionary to a DataFrame\n",
        "new_user_df = pd.DataFrame([new_user_data])\n",
        "\n",
        "# Assuming your model is named 'model' and is already trained\n",
        "# Use the model to predict the learning style for the new user\n",
        "predicted_learning_style = model.predict(new_user_df)\n",
        "\n",
        "print(f'Predicted Learning Style for the New User: {predicted_learning_style[0]}')\n"
      ],
      "metadata": {
        "colab": {
          "base_uri": "https://localhost:8080/"
        },
        "id": "afGICtBgwRfI",
        "outputId": "0256c625-d32a-46fa-c13a-965e474d00b5"
      },
      "execution_count": null,
      "outputs": [
        {
          "output_type": "stream",
          "name": "stdout",
          "text": [
            "Predicted Learning Style for the New User: 3\n"
          ]
        }
      ]
    },
    {
      "cell_type": "code",
      "source": [
        "# to import data from sql\n",
        "import pandas as pd\n",
        "from sqlalchemy import create_engine\n",
        "\n",
        "# Replace 'sqlite:///your_database.db' with the connection string for your specific database\n",
        "# For other databases, you might need to install a specific connector library and modify the connection string accordingly\n",
        "db_connection_str = 'sqlite:///your_database.db'\n",
        "db_connection = create_engine(db_connection_str)\n",
        "\n",
        "# Replace 'your_table_name' with the actual table name where your data is stored\n",
        "table_name = 'your_table_name'\n",
        "\n",
        "# Read data from the SQL database into a pandas DataFrame\n",
        "df = pd.read_sql(table_name, con=db_connection)\n",
        "\n",
        "# Now, you have the data in the DataFrame 'df' and can use it for prediction\n"
      ],
      "metadata": {
        "id": "tASMTlt7zKwm"
      },
      "execution_count": null,
      "outputs": []
    },
    {
      "cell_type": "code",
      "source": [
        "\n",
        "from surprise import Dataset, Reader\n",
        "from surprise.model_selection import train_test_split\n",
        "from surprise import SVD\n",
        "from surprise import accuracy\n",
        "\n",
        "# Let's assume user with ID 147 is the existing user for whom we want to generate recommendations\n",
        "user_id = 147\n",
        "\n",
        "# Get the items the user has already rated\n",
        "rated_items = df[df['id'] == user_id][['Interactive_Videos', 'Mind_Maps', 'Podcasts',\n",
        "                                        'Audiobooks', 'Recorded_Lectures', 'Verbal_Explanations', 'Quizzes',\n",
        "                                        'Interactive_Apps', 'Virtual_Labs', 'Ebooks', 'Study_Guides',\n",
        "                                        'Written_Explanations', 'Online_Articles', 'Practical_Exercises',\n",
        "                                        'Group_Discussions', 'Shared_Notes', 'Visual_Materials',\n",
        "                                        'Interactive_Materials', 'written_Based_materials', 'Hands_Materials',\n",
        "                                        'Collaborative_Materials', 'Auditory_Materials']]\n",
        "\n",
        "# Convert the rated items to a list of tuples (item_id, rating)\n",
        "rated_items = list(rated_items.iloc[0].items())\n",
        "\n",
        "# Filter out items the user has already rated\n",
        "items_to_predict = [item for item, rating in rated_items if pd.isna(rating)]\n",
        "\n",
        "# Generate predictions for the items the user has not yet rated\n",
        "predictions = [model.predict(user_id, item_id) for item_id in items_to_predict]\n",
        "\n",
        "# Sort the predictions by estimated rating in descending order\n",
        "sorted_predictions = sorted(predictions, key=lambda x: x.est, reverse=True)\n",
        "\n",
        "# Print the top N recommended items\n",
        "top_n = 2\n",
        "top_recommendations = [(prediction.iid, prediction.est) for prediction in sorted_predictions[:top_n]]\n",
        "\n",
        "print(f\"Top {top_n} Recommendations for User {user_id}:\")\n",
        "for item_id, estimated_rating in top_recommendations:\n",
        "    print(f\"Item ID: {item_id}, Estimated Rating: {estimated_rating}\")\n"
      ],
      "metadata": {
        "colab": {
          "base_uri": "https://localhost:8080/"
        },
        "id": "R5n71ecV0zYN",
        "outputId": "9993648f-75a9-4b8a-c695-0a6f40be3910"
      },
      "execution_count": null,
      "outputs": [
        {
          "output_type": "stream",
          "name": "stdout",
          "text": [
            "Top 2 Recommendations for User 147:\n"
          ]
        }
      ]
    },
    {
      "cell_type": "code",
      "source": [
        "# Generate predictions for the items the user has not yet rated\n",
        "predictions = [model.predict(user_id, item_id) for item_id in items_to_predict]\n",
        "\n",
        "# Sort the predictions by estimated rating in descending order\n",
        "sorted_predictions = sorted(predictions, key=lambda x: x.est, reverse=True)\n",
        "\n",
        "# Print the top N recommended items\n",
        "top_n = 5\n",
        "top_recommendations = [(prediction.iid, prediction.est) for prediction in sorted_predictions[:top_n]]\n",
        "\n",
        "print(f\"Top {top_n} Recommendations for User {user_id}:\")\n",
        "for item_id, estimated_rating in top_recommendations:\n",
        "    print(f\"Item ID: {item_id}, Estimated Rating: {estimated_rating}\")\n"
      ],
      "metadata": {
        "colab": {
          "base_uri": "https://localhost:8080/"
        },
        "id": "fDHEq_oo04TJ",
        "outputId": "4ccaf79e-89ea-4a6f-d480-a4b20004a31f"
      },
      "execution_count": null,
      "outputs": [
        {
          "output_type": "stream",
          "name": "stdout",
          "text": [
            "Top 5 Recommendations for User 147:\n"
          ]
        }
      ]
    }
  ]
}